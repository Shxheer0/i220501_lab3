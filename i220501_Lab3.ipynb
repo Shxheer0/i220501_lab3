{
  "nbformat": 4,
  "nbformat_minor": 0,
  "metadata": {
    "colab": {
      "provenance": []
    },
    "kernelspec": {
      "name": "python3",
      "display_name": "Python 3"
    },
    "language_info": {
      "name": "python"
    }
  },
  "cells": [
    {
      "cell_type": "markdown",
      "source": [
        "# Lab Task 01"
      ],
      "metadata": {
        "id": "DR3RvooloecS"
      }
    },
    {
      "cell_type": "markdown",
      "source": [
        "Reshape a 1D NumPy array into a 2D array with dimensions (3, 4).\n",
        "\n",
        "Concatenate two NumPy arrays horizontally and vertically."
      ],
      "metadata": {
        "id": "Oi-yFvItoWzc"
      }
    },
    {
      "cell_type": "code",
      "source": [
        "import numpy as np\n",
        "\n",
        "arr1d = np.array([1, 2, 3, 4, 5, 6, 7, 8, 9, 10, 11, 12])\n",
        "arr2d = arr1d.reshape(3, 4)\n",
        "print(\"Reshaped 2D array:\")\n",
        "print(arr2d)\n",
        "\n",
        "arr1 = np.array([[1, 2, 3], [4, 5, 6]])\n",
        "arr2 = np.array([[7, 8, 9], [10, 11, 12]])\n",
        "\n",
        "\n",
        "arr_horizontal = np.concatenate((arr1, arr2), axis=1)\n",
        "print(\"\\nConcatenated horizontally array:\")\n",
        "print(arr_horizontal)\n",
        "\n",
        "arr_vertical = np.concatenate((arr1, arr2), axis=0)\n",
        "print(\"\\nConcatenated vertically array:\")\n",
        "print(arr_vertical)"
      ],
      "metadata": {
        "id": "c379PMYOobDK",
        "colab": {
          "base_uri": "https://localhost:8080/"
        },
        "outputId": "ebe1c3f5-c9f1-47ba-ed6b-6bad08c6b3b0"
      },
      "execution_count": null,
      "outputs": [
        {
          "output_type": "stream",
          "name": "stdout",
          "text": [
            "Reshaped 2D array:\n",
            "[[ 1  2  3  4]\n",
            " [ 5  6  7  8]\n",
            " [ 9 10 11 12]]\n",
            "\n",
            "Concatenated horizontally array:\n",
            "[[ 1  2  3  7  8  9]\n",
            " [ 4  5  6 10 11 12]]\n",
            "\n",
            "Concatenated vertically array:\n",
            "[[ 1  2  3]\n",
            " [ 4  5  6]\n",
            " [ 7  8  9]\n",
            " [10 11 12]]\n"
          ]
        }
      ]
    },
    {
      "cell_type": "markdown",
      "source": [
        "# Lab Task 02"
      ],
      "metadata": {
        "id": "Dv9DtQ3jp6mq"
      }
    },
    {
      "cell_type": "markdown",
      "source": [
        "\n",
        "## Email Classification\n",
        "Develope a tool which will classify an email.\n",
        "\n",
        "### Tasks:\n",
        "* Create a function classify_emails that takes a list of emails as an argument.\n",
        "* Inside the function, categorize emails into \"Important,\" \"Promotions,\" and \"Spam\" based on keywords and content analysis.\n",
        "* Loop through the emails and identify keywords to determine their category.\n",
        "* If an email contains keywords indicating importance, assign it as \"Important.\"\n",
        "* If an email contains keywords related to promotions or deals, assign it as \"Promotions.\"\n",
        "* If an email is suspected to be spam based on certain keywords or patterns, assign it as \"Spam.\"\n",
        "* Return three lists of emails for each category.\n",
        "* Print the lists."
      ],
      "metadata": {
        "id": "2i6-zm_1ZAdn"
      }
    },
    {
      "cell_type": "code",
      "source": [
        "def classify_emails(emails):\n",
        "    important_keywords = [\"important\", \"urgent\", \"critical\"]\n",
        "    promotions_keywords = [\"promotions\", \"deals\", \"discount\"]\n",
        "    spam_keywords = [\"lottery\", \"free gift\", \"claim your prize\"]\n",
        "\n",
        "    important_emails = []\n",
        "    promotions_emails = []\n",
        "    spam_emails = []\n",
        "\n",
        "    for email in emails:\n",
        "        if any(keyword in email.lower() for keyword in important_keywords):\n",
        "            important_emails.append(email)\n",
        "        elif any(keyword in email.lower() for keyword in promotions_keywords):\n",
        "            promotions_emails.append(email)\n",
        "        elif any(keyword in email.lower() for keyword in spam_keywords):\n",
        "            spam_emails.append(email)\n",
        "\n",
        "    return important_emails, promotions_emails, spam_emails\n",
        "\n",
        "# Sample list of emails\n",
        "sample_emails = [\n",
        "    \"This is an important message.\",\n",
        "    \"Get 50% off on all products!\",\n",
        "    \"You have won a free vacation package!\",\n",
        "    \"Urgent: Action required on your account.\"\n",
        "]\n",
        "\n",
        "important, promotions, spam = classify_emails(sample_emails)\n",
        "\n",
        "# Print the lists\n",
        "print(\"Important Emails:\")\n",
        "print(important)\n",
        "print(\"\\nPromotions Emails:\")\n",
        "print(promotions)\n",
        "print(\"\\nSpam Emails:\")\n",
        "print(spam)"
      ],
      "metadata": {
        "id": "SnCGPkq-o84Z",
        "colab": {
          "base_uri": "https://localhost:8080/"
        },
        "outputId": "a1b87c16-75bc-4f7c-cc44-bf477d89f421"
      },
      "execution_count": null,
      "outputs": [
        {
          "output_type": "stream",
          "name": "stdout",
          "text": [
            "Important Emails:\n",
            "['This is an important message.', 'Urgent: Action required on your account.']\n",
            "\n",
            "Promotions Emails:\n",
            "[]\n",
            "\n",
            "Spam Emails:\n",
            "[]\n"
          ]
        }
      ]
    },
    {
      "cell_type": "markdown",
      "source": [
        "# Lab Task 03"
      ],
      "metadata": {
        "id": "amtV-GLWpCC7"
      }
    },
    {
      "cell_type": "markdown",
      "source": [
        "## English-Spanish Dictionary\n",
        "You are creating a basic English-Spanish dictionary that allows users to look up English words and find their Spanish translations.\n",
        "\n",
        "\n",
        "### Tasks\n",
        "* Create a dictionary where English words are keys and their Spanish translations are values.\n",
        "* Ask the user to input an English word.\n",
        "* Check if the word exists in the dictionary.\n",
        "* If the word exists, print its Spanish translation.\n",
        "* If the word does not exist, inform the user that the translation is not available.\n",
        "* Implement a loop that allows the user to keep looking up words until they choose to exit.\n"
      ],
      "metadata": {
        "id": "M2Zg-XsUpC72"
      }
    },
    {
      "cell_type": "code",
      "source": [
        "english_spanish_dict = {\n",
        "    \"hello\": \"hola\",\n",
        "    \"goodbye\": \"adiós\",\n",
        "    \"cat\": \"gato\",\n",
        "    \"dog\": \"perro\",\n",
        "    \"house\": \"casa\"\n",
        "}\n",
        "\n",
        "while True:\n",
        "\n",
        "    user_input = input(\"Enter an English word (or 'exit' to quit): \")\n",
        "\n",
        "    # Check if the user wants to exit\n",
        "    if user_input.lower() == \"exit\":\n",
        "        print(\"Goodbye!\")\n",
        "        break\n",
        "\n",
        "    # Check if the word exists in the dictionary\n",
        "    if user_input in english_spanish_dict:\n",
        "        print(f\"The Spanish translation of '{user_input}' is '{english_spanish_dict[user_input]}'.\")\n",
        "    else:\n",
        "        print(f\"The translation of '{user_input}' is not available.\")\n"
      ],
      "metadata": {
        "id": "7RKtYbMZpJdh",
        "colab": {
          "base_uri": "https://localhost:8080/"
        },
        "outputId": "3edbceb8-a26d-4d94-d195-3593677a4e0b"
      },
      "execution_count": null,
      "outputs": [
        {
          "output_type": "stream",
          "name": "stdout",
          "text": [
            "Enter an English word (or 'exit' to quit): hello\n",
            "The Spanish translation of 'hello' is 'hola'.\n",
            "Enter an English word (or 'exit' to quit): goodbye\n",
            "The Spanish translation of 'goodbye' is 'adiós'.\n",
            "Enter an English word (or 'exit' to quit): quit\n",
            "The translation of 'quit' is not available.\n",
            "Enter an English word (or 'exit' to quit): exit\n",
            "Goodbye!\n"
          ]
        }
      ]
    },
    {
      "cell_type": "code",
      "source": [],
      "metadata": {
        "id": "usFbQYb66Der"
      },
      "execution_count": null,
      "outputs": []
    },
    {
      "cell_type": "markdown",
      "source": [
        "# Lab Task 04"
      ],
      "metadata": {
        "id": "h_8wOMWitspv"
      }
    },
    {
      "cell_type": "markdown",
      "source": [
        "dataset link : https://raw.githubusercontent.com/TirendazAcademy/PANDAS-TUTORIAL/main/DataSets/vgsalesGlobale.csv\n",
        "#Exercise\n",
        "Use the dataset of Game, we have explored earlier and perform following operations.\n",
        "\n",
        "* Calculate the total global sales for all games in the dataset.\n",
        "* Find the game with the highest global sales.\n",
        "* Determine the average sales for each region (NA_Sales, EU_Sales, JP_Sales, Other_Sales).\n",
        "* Find the top 5 most popular game genres based on global sales.\n",
        "* Calculate the total sales for each genre in each region and find the most popular genre in North America (NA_Sales).\n",
        "* Display last 10 rows.\n",
        "* Determine the top 3 gaming platforms with the highest global sales.\n",
        "* Calculate the market share (percentage of global sales) for each genre.\n",
        "* Calculate the correlation coefficient between NA_Sales and EU_Sales. (.corr function)"
      ],
      "metadata": {
        "id": "Qq4VH1Jkts32"
      }
    },
    {
      "cell_type": "code",
      "source": [
        "import pandas as pd\n",
        "\n",
        "# Reading the dataset\n",
        "url = 'https://raw.githubusercontent.com/TirendazAcademy/PANDAS-TUTORIAL/main/DataSets/vgsalesGlobale.csv'\n",
        "game_data = pd.read_csv(url)"
      ],
      "metadata": {
        "id": "riq8PsZ46axk"
      },
      "execution_count": 1,
      "outputs": []
    },
    {
      "cell_type": "code",
      "source": [
        "\n",
        "total_global_sales = game_data['Global_Sales'].sum()\n",
        "print(\"Total Global Sales:\", total_global_sales, \"million\")\n",
        "\n",
        "\n",
        "game_highest_sales = game_data.loc[game_data['Global_Sales'].idxmax()]\n",
        "print(\"Game with the Highest Global Sales:\")\n",
        "print(game_highest_sales)\n",
        "\n",
        "average_sales_per_region = game_data[['NA_Sales', 'EU_Sales', 'JP_Sales', 'Other_Sales']].mean()\n",
        "print(\"Average Sales for Each Region:\")\n",
        "print(average_sales_per_region)\n",
        "\n",
        "\n",
        "top_5_genres_global_sales = game_data.groupby('Genre')['Global_Sales'].sum().nlargest(5)\n",
        "print(\"Top 5 Most Popular Game Genres Based on Global Sales:\")\n",
        "print(top_5_genres_global_sales)\n",
        "\n",
        "\n",
        "total_sales_per_genre_region = game_data.groupby('Genre')[['NA_Sales', 'EU_Sales', 'JP_Sales', 'Other_Sales']].sum()\n",
        "print(\"Total Sales for Each Genre in Each Region and the Most Popular Genre in North America (NA_Sales):\")\n",
        "\n",
        "most_popular_genre_na = total_sales_per_genre_region['NA_Sales'].idxmax()\n",
        "\n",
        "print(\"Most popular genre in North America based on sales:\", most_popular_genre_na)\n",
        "\n",
        "\n",
        "last_10_rows = game_data.tail(10)\n",
        "print(\"Last 10 Rows:\")\n",
        "print(last_10_rows)\n",
        "\n",
        "\n",
        "top_3_platforms_global_sales = game_data.groupby('Platform')['Global_Sales'].sum().nlargest(3)\n",
        "print(\"Top 3 Gaming Platforms with the Highest Global Sales:\")\n",
        "print(top_3_platforms_global_sales)\n",
        "\n",
        "\n",
        "market_share_per_genre = (game_data.groupby('Genre')['Global_Sales'].sum() / game_data['Global_Sales'].sum()) * 100\n",
        "print(\"Market Share for Each Genre:\")\n",
        "print(market_share_per_genre)\n",
        "\n",
        "\n",
        "correlation_coefficient = game_data['NA_Sales'].corr(game_data['EU_Sales'])\n",
        "print(\"Correlation Coefficient between NA_Sales and EU_Sales:\", correlation_coefficient)"
      ],
      "metadata": {
        "id": "x7xzKd256aoo",
        "colab": {
          "base_uri": "https://localhost:8080/"
        },
        "outputId": "47afd139-ff37-4605-db92-06a77383ea7a"
      },
      "execution_count": 2,
      "outputs": [
        {
          "output_type": "stream",
          "name": "stdout",
          "text": [
            "Total Global Sales: 8920.44 million\n",
            "Game with the Highest Global Sales:\n",
            "Rank                     1\n",
            "Name            Wii Sports\n",
            "Platform               Wii\n",
            "Year                2006.0\n",
            "Genre               Sports\n",
            "Publisher         Nintendo\n",
            "NA_Sales             41.49\n",
            "EU_Sales             29.02\n",
            "JP_Sales              3.77\n",
            "Other_Sales           8.46\n",
            "Global_Sales         82.74\n",
            "Name: 0, dtype: object\n",
            "Average Sales for Each Region:\n",
            "NA_Sales       0.264667\n",
            "EU_Sales       0.146652\n",
            "JP_Sales       0.077782\n",
            "Other_Sales    0.048063\n",
            "dtype: float64\n",
            "Top 5 Most Popular Game Genres Based on Global Sales:\n",
            "Genre\n",
            "Action          1751.18\n",
            "Sports          1330.93\n",
            "Shooter         1037.37\n",
            "Role-Playing     927.37\n",
            "Platform         831.37\n",
            "Name: Global_Sales, dtype: float64\n",
            "Total Sales for Each Genre in Each Region and the Most Popular Genre in North America (NA_Sales):\n",
            "Most popular genre in North America based on sales: Action\n",
            "Last 10 Rows:\n",
            "        Rank                                               Name Platform  \\\n",
            "16588  16591                                   Mega Brain Boost       DS   \n",
            "16589  16592  Chou Ezaru wa Akai Hana: Koi wa Tsuki ni Shiru...      PSV   \n",
            "16590  16593  Eiyuu Densetsu: Sora no Kiseki Material Collec...      PSP   \n",
            "16591  16594                                Myst IV: Revelation       PC   \n",
            "16592  16595                                           Plushees       DS   \n",
            "16593  16596                 Woody Woodpecker in Crazy Castle 5      GBA   \n",
            "16594  16597                      Men in Black II: Alien Escape       GC   \n",
            "16595  16598   SCORE International Baja 1000: The Official Game      PS2   \n",
            "16596  16599                                         Know How 2       DS   \n",
            "16597  16600                                   Spirits & Spells      GBA   \n",
            "\n",
            "         Year         Genre              Publisher  NA_Sales  EU_Sales  \\\n",
            "16588  2008.0        Puzzle  Majesco Entertainment      0.01      0.00   \n",
            "16589  2016.0        Action        dramatic create      0.00      0.00   \n",
            "16590  2007.0  Role-Playing     Falcom Corporation      0.00      0.00   \n",
            "16591  2004.0     Adventure                Ubisoft      0.01      0.00   \n",
            "16592  2008.0    Simulation              Destineer      0.01      0.00   \n",
            "16593  2002.0      Platform                  Kemco      0.01      0.00   \n",
            "16594  2003.0       Shooter             Infogrames      0.01      0.00   \n",
            "16595  2008.0        Racing             Activision      0.00      0.00   \n",
            "16596  2010.0        Puzzle               7G//AMES      0.00      0.01   \n",
            "16597  2003.0      Platform                Wanadoo      0.01      0.00   \n",
            "\n",
            "       JP_Sales  Other_Sales  Global_Sales  \n",
            "16588      0.00          0.0          0.01  \n",
            "16589      0.01          0.0          0.01  \n",
            "16590      0.01          0.0          0.01  \n",
            "16591      0.00          0.0          0.01  \n",
            "16592      0.00          0.0          0.01  \n",
            "16593      0.00          0.0          0.01  \n",
            "16594      0.00          0.0          0.01  \n",
            "16595      0.00          0.0          0.01  \n",
            "16596      0.00          0.0          0.01  \n",
            "16597      0.00          0.0          0.01  \n",
            "Top 3 Gaming Platforms with the Highest Global Sales:\n",
            "Platform\n",
            "PS2     1255.64\n",
            "X360     979.96\n",
            "PS3      957.84\n",
            "Name: Global_Sales, dtype: float64\n",
            "Market Share for Each Genre:\n",
            "Genre\n",
            "Action          19.631094\n",
            "Adventure        2.679688\n",
            "Fighting         5.032375\n",
            "Misc             9.079821\n",
            "Platform         9.319832\n",
            "Puzzle           2.745941\n",
            "Racing           8.206322\n",
            "Role-Playing    10.396012\n",
            "Shooter         11.629135\n",
            "Simulation       4.396644\n",
            "Sports          14.920004\n",
            "Strategy         1.963132\n",
            "Name: Global_Sales, dtype: float64\n",
            "Correlation Coefficient between NA_Sales and EU_Sales: 0.7677267483702631\n"
          ]
        }
      ]
    },
    {
      "cell_type": "markdown",
      "source": [
        "Some tree example"
      ],
      "metadata": {
        "id": "b9WEL8JcZFfY"
      }
    },
    {
      "cell_type": "code",
      "source": [
        "# import pandas as pd\n",
        "\n",
        "# # Create a DataFrame to represent a tree\n",
        "# data = {\n",
        "#     'node': ['A', 'B', 'C', 'D', 'E', 'F'],\n",
        "#     'parent': [None, 'A', 'A', 'B', 'B', 'C']\n",
        "# }\n",
        "# df = pd.DataFrame(data)\n",
        "\n",
        "# print(df)\n"
      ],
      "metadata": {
        "id": "re3_ijh12uCi"
      },
      "execution_count": null,
      "outputs": []
    },
    {
      "cell_type": "code",
      "source": [
        "# pip install networkx\n"
      ],
      "metadata": {
        "id": "4eYXGm0c2yAl"
      },
      "execution_count": null,
      "outputs": []
    },
    {
      "cell_type": "code",
      "source": [
        "# import pandas as pd\n",
        "# import networkx as nx\n",
        "# import matplotlib.pyplot as plt\n",
        "\n",
        "# # Create a DataFrame representing edges in a graph\n",
        "# data = {\n",
        "#     'from': ['A', 'A', 'B', 'C', 'D'],\n",
        "#     'to': ['B', 'C', 'D', 'E', 'E']\n",
        "# }\n",
        "# edges = pd.DataFrame(data)\n",
        "\n",
        "# # Create a graph from the edges DataFrame\n",
        "# G = nx.from_pandas_edgelist(edges, 'from', 'to')\n",
        "\n",
        "# # Draw the graph\n",
        "# nx.draw(G, with_labels=True)\n",
        "# plt.show()\n",
        "\n",
        "# # Analyze the graph\n",
        "# print(\"Nodes:\", G.nodes())\n",
        "# print(\"Edges:\", G.edges())\n",
        "# print(\"Degree for each Node:\", dict(G.degree()))\n"
      ],
      "metadata": {
        "id": "QBd8dZTF224G"
      },
      "execution_count": null,
      "outputs": []
    }
  ]
}